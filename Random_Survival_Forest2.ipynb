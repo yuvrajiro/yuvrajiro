{
  "nbformat": 4,
  "nbformat_minor": 0,
  "metadata": {
    "colab": {
      "name": "Random Survival Forest.ipynb",
      "provenance": [],
      "collapsed_sections": [],
      "authorship_tag": "ABX9TyNmD2Tmv5HqeHO0HYYFKXYa",
      "include_colab_link": true
    },
    "kernelspec": {
      "name": "python3",
      "display_name": "Python 3"
    },
    "language_info": {
      "name": "python"
    },
    "widgets": {
      "application/vnd.jupyter.widget-state+json": {
        "fe8a22950d024403be00b04d029db326": {
          "model_module": "@jupyter-widgets/controls",
          "model_name": "HBoxModel",
          "state": {
            "_view_name": "HBoxView",
            "_dom_classes": [],
            "_model_name": "HBoxModel",
            "_view_module": "@jupyter-widgets/controls",
            "_model_module_version": "1.5.0",
            "_view_count": null,
            "_view_module_version": "1.5.0",
            "box_style": "",
            "layout": "IPY_MODEL_51518c755d9c4cb9b9366ecd5cf3a59b",
            "_model_module": "@jupyter-widgets/controls",
            "children": [
              "IPY_MODEL_a266c066d4224b3d91955ed7652ffe0e",
              "IPY_MODEL_1ca34b0bd0cb4054b35f481bdcaab7aa"
            ]
          }
        },
        "51518c755d9c4cb9b9366ecd5cf3a59b": {
          "model_module": "@jupyter-widgets/base",
          "model_name": "LayoutModel",
          "state": {
            "_view_name": "LayoutView",
            "grid_template_rows": null,
            "right": null,
            "justify_content": null,
            "_view_module": "@jupyter-widgets/base",
            "overflow": null,
            "_model_module_version": "1.2.0",
            "_view_count": null,
            "flex_flow": null,
            "width": null,
            "min_width": null,
            "border": null,
            "align_items": null,
            "bottom": null,
            "_model_module": "@jupyter-widgets/base",
            "top": null,
            "grid_column": null,
            "overflow_y": null,
            "overflow_x": null,
            "grid_auto_flow": null,
            "grid_area": null,
            "grid_template_columns": null,
            "flex": null,
            "_model_name": "LayoutModel",
            "justify_items": null,
            "grid_row": null,
            "max_height": null,
            "align_content": null,
            "visibility": null,
            "align_self": null,
            "height": null,
            "min_height": null,
            "padding": null,
            "grid_auto_rows": null,
            "grid_gap": null,
            "max_width": null,
            "order": null,
            "_view_module_version": "1.2.0",
            "grid_template_areas": null,
            "object_position": null,
            "object_fit": null,
            "grid_auto_columns": null,
            "margin": null,
            "display": null,
            "left": null
          }
        },
        "a266c066d4224b3d91955ed7652ffe0e": {
          "model_module": "@jupyter-widgets/controls",
          "model_name": "FloatProgressModel",
          "state": {
            "_view_name": "ProgressView",
            "style": "IPY_MODEL_85518b940a6f4654b3888205e7ac7e85",
            "_dom_classes": [],
            "description": "100%",
            "_model_name": "FloatProgressModel",
            "bar_style": "success",
            "max": 10,
            "_view_module": "@jupyter-widgets/controls",
            "_model_module_version": "1.5.0",
            "value": 10,
            "_view_count": null,
            "_view_module_version": "1.5.0",
            "orientation": "horizontal",
            "min": 0,
            "description_tooltip": null,
            "_model_module": "@jupyter-widgets/controls",
            "layout": "IPY_MODEL_2de31ecf1cf5458095a93a71bb441430"
          }
        },
        "1ca34b0bd0cb4054b35f481bdcaab7aa": {
          "model_module": "@jupyter-widgets/controls",
          "model_name": "HTMLModel",
          "state": {
            "_view_name": "HTMLView",
            "style": "IPY_MODEL_a1db8ee4c8b44509b2234aa1b0bbccc1",
            "_dom_classes": [],
            "description": "",
            "_model_name": "HTMLModel",
            "placeholder": "​",
            "_view_module": "@jupyter-widgets/controls",
            "_model_module_version": "1.5.0",
            "value": " 10/10 [00:17&lt;00:00,  1.74s/it]",
            "_view_count": null,
            "_view_module_version": "1.5.0",
            "description_tooltip": null,
            "_model_module": "@jupyter-widgets/controls",
            "layout": "IPY_MODEL_587d0d18ea3d4cf18aa1f0efa0b5ccaa"
          }
        },
        "85518b940a6f4654b3888205e7ac7e85": {
          "model_module": "@jupyter-widgets/controls",
          "model_name": "ProgressStyleModel",
          "state": {
            "_view_name": "StyleView",
            "_model_name": "ProgressStyleModel",
            "description_width": "initial",
            "_view_module": "@jupyter-widgets/base",
            "_model_module_version": "1.5.0",
            "_view_count": null,
            "_view_module_version": "1.2.0",
            "bar_color": null,
            "_model_module": "@jupyter-widgets/controls"
          }
        },
        "2de31ecf1cf5458095a93a71bb441430": {
          "model_module": "@jupyter-widgets/base",
          "model_name": "LayoutModel",
          "state": {
            "_view_name": "LayoutView",
            "grid_template_rows": null,
            "right": null,
            "justify_content": null,
            "_view_module": "@jupyter-widgets/base",
            "overflow": null,
            "_model_module_version": "1.2.0",
            "_view_count": null,
            "flex_flow": null,
            "width": null,
            "min_width": null,
            "border": null,
            "align_items": null,
            "bottom": null,
            "_model_module": "@jupyter-widgets/base",
            "top": null,
            "grid_column": null,
            "overflow_y": null,
            "overflow_x": null,
            "grid_auto_flow": null,
            "grid_area": null,
            "grid_template_columns": null,
            "flex": null,
            "_model_name": "LayoutModel",
            "justify_items": null,
            "grid_row": null,
            "max_height": null,
            "align_content": null,
            "visibility": null,
            "align_self": null,
            "height": null,
            "min_height": null,
            "padding": null,
            "grid_auto_rows": null,
            "grid_gap": null,
            "max_width": null,
            "order": null,
            "_view_module_version": "1.2.0",
            "grid_template_areas": null,
            "object_position": null,
            "object_fit": null,
            "grid_auto_columns": null,
            "margin": null,
            "display": null,
            "left": null
          }
        },
        "a1db8ee4c8b44509b2234aa1b0bbccc1": {
          "model_module": "@jupyter-widgets/controls",
          "model_name": "DescriptionStyleModel",
          "state": {
            "_view_name": "StyleView",
            "_model_name": "DescriptionStyleModel",
            "description_width": "",
            "_view_module": "@jupyter-widgets/base",
            "_model_module_version": "1.5.0",
            "_view_count": null,
            "_view_module_version": "1.2.0",
            "_model_module": "@jupyter-widgets/controls"
          }
        },
        "587d0d18ea3d4cf18aa1f0efa0b5ccaa": {
          "model_module": "@jupyter-widgets/base",
          "model_name": "LayoutModel",
          "state": {
            "_view_name": "LayoutView",
            "grid_template_rows": null,
            "right": null,
            "justify_content": null,
            "_view_module": "@jupyter-widgets/base",
            "overflow": null,
            "_model_module_version": "1.2.0",
            "_view_count": null,
            "flex_flow": null,
            "width": null,
            "min_width": null,
            "border": null,
            "align_items": null,
            "bottom": null,
            "_model_module": "@jupyter-widgets/base",
            "top": null,
            "grid_column": null,
            "overflow_y": null,
            "overflow_x": null,
            "grid_auto_flow": null,
            "grid_area": null,
            "grid_template_columns": null,
            "flex": null,
            "_model_name": "LayoutModel",
            "justify_items": null,
            "grid_row": null,
            "max_height": null,
            "align_content": null,
            "visibility": null,
            "align_self": null,
            "height": null,
            "min_height": null,
            "padding": null,
            "grid_auto_rows": null,
            "grid_gap": null,
            "max_width": null,
            "order": null,
            "_view_module_version": "1.2.0",
            "grid_template_areas": null,
            "object_position": null,
            "object_fit": null,
            "grid_auto_columns": null,
            "margin": null,
            "display": null,
            "left": null
          }
        }
      }
    }
  },
  "cells": [
    {
      "cell_type": "markdown",
      "metadata": {
        "id": "view-in-github",
        "colab_type": "text"
      },
      "source": [
        "<a href=\"https://colab.research.google.com/github/yuvrajiro/yuvrajiro/blob/master/Random_Survival_Forest2.ipynb\" target=\"_parent\"><img src=\"https://colab.research.google.com/assets/colab-badge.svg\" alt=\"Open In Colab\"/></a>"
      ]
    },
    {
      "cell_type": "code",
      "metadata": {
        "colab": {
          "base_uri": "https://localhost:8080/"
        },
        "id": "0JhTXSpdx1Wn",
        "outputId": "9d6d78b5-ba89-4b7a-e73e-e3270af02a6c"
      },
      "source": [
        "pip install lifelines"
      ],
      "execution_count": 2,
      "outputs": [
        {
          "output_type": "stream",
          "text": [
            "Collecting lifelines\n",
            "\u001b[?25l  Downloading https://files.pythonhosted.org/packages/50/ba/d010b22c8bcdfe3bbba753bd976f5deddfa4ec1c842b991579e9c2c3cd61/lifelines-0.26.0-py3-none-any.whl (348kB)\n",
            "\u001b[K     |████████████████████████████████| 358kB 5.1MB/s \n",
            "\u001b[?25hCollecting autograd-gamma>=0.3\n",
            "  Downloading https://files.pythonhosted.org/packages/85/ae/7f2031ea76140444b2453fa139041e5afd4a09fc5300cfefeb1103291f80/autograd-gamma-0.5.0.tar.gz\n",
            "Collecting formulaic<0.3,>=0.2.2\n",
            "\u001b[?25l  Downloading https://files.pythonhosted.org/packages/02/64/6702b5cadc89ece93af2e01996504f3a895196354a35713e2ef22f089d3e/formulaic-0.2.3-py3-none-any.whl (55kB)\n",
            "\u001b[K     |████████████████████████████████| 61kB 7.3MB/s \n",
            "\u001b[?25hRequirement already satisfied: scipy>=1.2.0 in /usr/local/lib/python3.7/dist-packages (from lifelines) (1.4.1)\n",
            "Requirement already satisfied: pandas>=0.23.0 in /usr/local/lib/python3.7/dist-packages (from lifelines) (1.1.5)\n",
            "Requirement already satisfied: autograd>=1.3 in /usr/local/lib/python3.7/dist-packages (from lifelines) (1.3)\n",
            "Requirement already satisfied: numpy>=1.14.0 in /usr/local/lib/python3.7/dist-packages (from lifelines) (1.19.5)\n",
            "Requirement already satisfied: matplotlib>=3.0 in /usr/local/lib/python3.7/dist-packages (from lifelines) (3.2.2)\n",
            "Requirement already satisfied: wrapt in /usr/local/lib/python3.7/dist-packages (from formulaic<0.3,>=0.2.2->lifelines) (1.12.1)\n",
            "Collecting interface-meta>=1.2\n",
            "  Downloading https://files.pythonhosted.org/packages/71/31/5e474208f5df9012ebecfaa23884b14f93671ea4f4f6d468eb096b73e499/interface_meta-1.2.3-py2.py3-none-any.whl\n",
            "Requirement already satisfied: astor in /usr/local/lib/python3.7/dist-packages (from formulaic<0.3,>=0.2.2->lifelines) (0.8.1)\n",
            "Requirement already satisfied: pytz>=2017.2 in /usr/local/lib/python3.7/dist-packages (from pandas>=0.23.0->lifelines) (2018.9)\n",
            "Requirement already satisfied: python-dateutil>=2.7.3 in /usr/local/lib/python3.7/dist-packages (from pandas>=0.23.0->lifelines) (2.8.1)\n",
            "Requirement already satisfied: future>=0.15.2 in /usr/local/lib/python3.7/dist-packages (from autograd>=1.3->lifelines) (0.16.0)\n",
            "Requirement already satisfied: cycler>=0.10 in /usr/local/lib/python3.7/dist-packages (from matplotlib>=3.0->lifelines) (0.10.0)\n",
            "Requirement already satisfied: pyparsing!=2.0.4,!=2.1.2,!=2.1.6,>=2.0.1 in /usr/local/lib/python3.7/dist-packages (from matplotlib>=3.0->lifelines) (2.4.7)\n",
            "Requirement already satisfied: kiwisolver>=1.0.1 in /usr/local/lib/python3.7/dist-packages (from matplotlib>=3.0->lifelines) (1.3.1)\n",
            "Requirement already satisfied: six>=1.5 in /usr/local/lib/python3.7/dist-packages (from python-dateutil>=2.7.3->pandas>=0.23.0->lifelines) (1.15.0)\n",
            "Building wheels for collected packages: autograd-gamma\n",
            "  Building wheel for autograd-gamma (setup.py) ... \u001b[?25l\u001b[?25hdone\n",
            "  Created wheel for autograd-gamma: filename=autograd_gamma-0.5.0-cp37-none-any.whl size=4050 sha256=6517ead64c41fbede34dd985b20309156fd4d2dec39d242f4363da048cbc31c0\n",
            "  Stored in directory: /root/.cache/pip/wheels/dc/68/dc/91321c55fba449755524481854f5be70d41912b8f886f908bb\n",
            "Successfully built autograd-gamma\n",
            "Installing collected packages: autograd-gamma, interface-meta, formulaic, lifelines\n",
            "Successfully installed autograd-gamma-0.5.0 formulaic-0.2.3 interface-meta-1.2.3 lifelines-0.26.0\n"
          ],
          "name": "stdout"
        }
      ]
    },
    {
      "cell_type": "code",
      "metadata": {
        "id": "JsljcM3GsYs7"
      },
      "source": [
        "import pandas as pd\n",
        "import numpy as np\n",
        "from lifelines import NelsonAalenFitter\n",
        "from lifelines.statistics import logrank_test\n",
        "from itertools import combinations\n",
        "from joblib import Parallel, delayed\n",
        "import multiprocessing\n",
        "from tqdm.notebook import tqdm as tqdm\n"
      ],
      "execution_count": 261,
      "outputs": []
    },
    {
      "cell_type": "markdown",
      "metadata": {
        "id": "Zqvo55WAoroU"
      },
      "source": [
        "## Node"
      ]
    },
    {
      "cell_type": "code",
      "metadata": {
        "id": "2y5ZpszpoX16"
      },
      "source": [
        "class Node:\n",
        "\n",
        "    def __init__(self, x, y, tree, unique_deaths=3, min_leaf=3, timeline=None):\n",
        "\n",
        "        self.x = x\n",
        "        self.y = y\n",
        "        self.tree = tree\n",
        "        self.f_idxs = np.random.permutation(np.shape(x)[1])[np.arange(np.int(np.ceil(np.sqrt(np.shape(x)[1]))))]\n",
        "        self.unique_deaths = unique_deaths\n",
        "        self.min_leaf = min_leaf\n",
        "        self.score = 0\n",
        "        self.split_val = None\n",
        "        self.split_var = None\n",
        "        self.lhs = None\n",
        "        self.rhs = None\n",
        "        self.chf = None\n",
        "        self.terminal = False\n",
        "        self.timeline = timeline\n",
        "        self.grow_tree()\n",
        "\n",
        "    def grow_tree(self):\n",
        "\n",
        "        unique_deaths = np.sum(np.unique(self.y , axis = 0) , axis = 0)[1]\n",
        "\n",
        "        if unique_deaths <= self.unique_deaths:\n",
        "            self.compute_terminal_node()\n",
        "            return self\n",
        "\n",
        "        self.score, self.split_val, self.split_var, lhs_idxs_opt, rhs_idxs_opt = find_split(self)\n",
        "\n",
        "        if self.split_var is None:\n",
        "            self.compute_terminal_node()\n",
        "            return self\n",
        "\n",
        "        self.lhs = Node(self.x[lhs_idxs_opt, :], self.y[lhs_idxs_opt, :], self.tree,\n",
        "                         min_leaf=self.min_leaf, timeline=self.timeline)\n",
        "\n",
        "        self.rhs = Node(self.x[rhs_idxs_opt, :], self.y[rhs_idxs_opt, :], self.tree,\n",
        "                         min_leaf=self.min_leaf, timeline=self.timeline)\n",
        "\n",
        "        return self\n",
        "\n",
        "    def compute_terminal_node(self):\n",
        "\n",
        "        self.terminal = True\n",
        "        self.chf = NelsonAalenFitter()\n",
        "        t = self.y[:, 0]    # Time of The Event\n",
        "        e = self.y[:, 1]    # Indicator for occurrence of event\n",
        "        self.chf.fit(t, event_observed=e, timeline=self.timeline)\n",
        "        return self\n",
        "\n",
        "    def predict(self, x):\n",
        "\n",
        "        if self.terminal:\n",
        "            self.tree.chf = self.chf.cumulative_hazard_.to_numpy()\n",
        "            self.tree.chf = self.tree.chf[:, 0]\n",
        "            return self.tree.chf\n",
        "        else:\n",
        "            if x[self.split_var] <= self.split_val:\n",
        "                self.lhs.predict(x)\n",
        "            else:\n",
        "                self.rhs.predict(x)\n"
      ],
      "execution_count": 262,
      "outputs": []
    },
    {
      "cell_type": "markdown",
      "metadata": {
        "id": "HwGReYjS9SZr"
      },
      "source": [
        "## Functions for Splitting\n",
        "\n",
        "\n",
        "\n"
      ]
    },
    {
      "cell_type": "code",
      "metadata": {
        "id": "SriEVLjLprmh"
      },
      "source": [
        "def find_split(node):\n",
        "\n",
        "    score_opt = -5000\n",
        "    split_val_opt = None\n",
        "    lhs_idxs_opt = None\n",
        "    rhs_idxs_opt = None\n",
        "    split_var_opt = None\n",
        "    for i in node.f_idxs:\n",
        "        score, split_val, lhs_idxs, rhs_idxs = logrank_statistics(node.x[:,i], node.y , node.min_leaf)\n",
        "        if score > score_opt:\n",
        "            score_opt = score\n",
        "            split_val_opt = split_val\n",
        "            lhs_idxs_opt = lhs_idxs\n",
        "            rhs_idxs_opt = rhs_idxs\n",
        "            split_var_opt = i\n",
        "\n",
        "    return score_opt, split_val_opt, split_var_opt, lhs_idxs_opt, rhs_idxs_opt\n",
        "\n",
        "def logrank_statistics(x_var, y, min_leaf):\n",
        "\n",
        "    score_opt = -5000\n",
        "    split_val_opt = None\n",
        "    lhs_idxs = None\n",
        "    rhs_idxs = None\n",
        "    thresholds = np.unique(np.sort(x_var))\n",
        "\n",
        "    for split_val in thresholds:\n",
        "        \n",
        "        feature1 = x_var <= split_val       #Creating an array of True , False which works as index\n",
        "        feature2 = ~feature1\n",
        "        if np.sum(feature1) < min_leaf or np.sum(feature2) < min_leaf:\n",
        "            continue\n",
        "        score = logrank_test(y[feature1, 0],y[feature2, 0] ,y[feature1, 1] , y[feature2, 1]).test_statistic\n",
        "        if score > score_opt:\n",
        "            score_opt = round(score, 3)\n",
        "            split_val_opt = round(split_val, 3)\n",
        "            lhs_idxs = feature1\n",
        "            rhs_idxs = feature2\n",
        "\n",
        "    return score_opt, split_val_opt, lhs_idxs, rhs_idxs\n"
      ],
      "execution_count": 263,
      "outputs": []
    },
    {
      "cell_type": "markdown",
      "metadata": {
        "id": "5Fwwfx6IB3Ph"
      },
      "source": [
        "## Survival Tree"
      ]
    },
    {
      "cell_type": "code",
      "metadata": {
        "id": "cCPN9o1nCA-z"
      },
      "source": [
        "class SurvivalTree:\n",
        "\n",
        "    def __init__(self, x, y,unique_deaths=3, min_leaf=3, timeline=None):\n",
        "\n",
        "        self.x = x\n",
        "        self.y = y\n",
        "        self.f_idxs = np.random.permutation(np.shape(x)[1])[np.arange(np.int(np.ceil(np.sqrt(np.shape(x)[1]))))]\n",
        "        self.min_leaf = min_leaf\n",
        "        self.unique_deaths = unique_deaths\n",
        "        self.score = 0\n",
        "        self.index = 0\n",
        "        self.split_val = None\n",
        "        self.split_var = None\n",
        "        self.lhs = None\n",
        "        self.rhs = None\n",
        "        self.chf = None\n",
        "        self.prediction_possible = None\n",
        "        self.timeline = timeline\n",
        "        self.grow_tree()\n",
        "\n",
        "    def grow_tree(self):\n",
        "\n",
        "        unique_deaths = np.sum(np.unique(self.y , axis = 0) , axis = 0)[1]\n",
        "\n",
        "        self.score, self.split_val, self.split_var, lhs_idxs_opt, rhs_idxs_opt = find_split(self)\n",
        "\n",
        "        if self.split_var is not None and unique_deaths > self.unique_deaths:\n",
        "            self.prediction_possible = True\n",
        "\n",
        "\n",
        "            self.lhs = Node(x=self.x[lhs_idxs_opt, :], y=self.y[lhs_idxs_opt, :],\n",
        "                            tree = self ,unique_deaths=self.unique_deaths, \n",
        "                            min_leaf=self.min_leaf,timeline=self.timeline)\n",
        "\n",
        "            self.rhs = Node(x=self.x[rhs_idxs_opt, :], y=self.y[rhs_idxs_opt, :],\n",
        "                            tree = self , unique_deaths=self.unique_deaths, \n",
        "                            min_leaf=self.min_leaf,timeline=self.timeline)\n",
        "\n",
        "            return self\n",
        "        else:\n",
        "            self.prediction_possible = False\n",
        "            return self\n",
        "\n",
        "    def predict(self, x):\n",
        "\n",
        "        if x[self.split_var] <= self.split_val:\n",
        "            self.lhs.predict(x)\n",
        "        else:\n",
        "            self.rhs.predict(x)\n",
        "        return self.chf\n"
      ],
      "execution_count": 264,
      "outputs": []
    },
    {
      "cell_type": "markdown",
      "metadata": {
        "id": "-KGyiYIbFni8"
      },
      "source": [
        "## Random Survival Forest"
      ]
    },
    {
      "cell_type": "code",
      "metadata": {
        "id": "Ybas6kwYFmvi"
      },
      "source": [
        "class RandomSurvivalForest:\n",
        "\n",
        "    def __init__(self, n_estimators=100, min_leaf=3, unique_deaths=3,\n",
        "                 n_jobs=None, parallelization_backend=\"multiprocessing\", oob_score=False):\n",
        "\n",
        "        self.n_estimators = n_estimators\n",
        "        self.min_leaf = min_leaf\n",
        "        self.unique_deaths = unique_deaths\n",
        "        self.n_jobs = n_jobs\n",
        "        self.parallelization_backend = parallelization_backend\n",
        "        self.bootstrap_idxs = None\n",
        "        self.bootstraps = []\n",
        "        self.oob_idxs = None\n",
        "        self.oob_score = oob_score\n",
        "        self.trees = []\n",
        "        self.timeline = None\n",
        "\n",
        "    def fit(self, x, y):\n",
        "\n",
        "        # Check The Timeline Argument Once Again\n",
        "        self.timeline =  np.sort(y[:,0])  #np.arange(y[:, 0].min(), y[:, 0].max(), 1)\n",
        "        if self.n_jobs == -1:\n",
        "            self.n_jobs = multiprocessing.cpu_count()\n",
        "        elif self.n_jobs is None:\n",
        "            self.n_jobs = 1\n",
        "        self.bootstrap_idxs = self.draw_bootstrap_samples(x)\n",
        "\n",
        "        trees = Parallel(n_jobs=self.n_jobs, backend=self.parallelization_backend)(delayed(SurvivalTree)(x[self.bootstrap_idxs[i], :], \n",
        "                                                                                                         y[self.bootstrap_idxs[i], :],\n",
        "                                                                                                         unique_deaths=self.unique_deaths, \n",
        "                                                                                                         min_leaf=self.min_leaf,\n",
        "                                                                                                         timeline=self.timeline)\n",
        "                                                                                                        for i in tqdm(range(self.n_estimators)))\n",
        "        for i in range(len(trees)):\n",
        "            if trees[i].prediction_possible:\n",
        "                self.trees.append(trees[i])\n",
        "                self.bootstraps.append(self.bootstrap_idxs[i])\n",
        "\n",
        "        if self.oob_score:\n",
        "            self.oob_score = self.compute_oob_score(x, y)\n",
        "\n",
        "        return self\n",
        "\n",
        "    def compute_oob_ensembles(self, xs):\n",
        "\n",
        "        results = [compute_oob_ensemble_chf(sample_idx=sample_idx, xs=xs, trees=self.trees,\n",
        "                                            bootstraps=self.bootstraps) for sample_idx in range(xs.shape[0])]\n",
        "        oob_ensemble_chfs = [i for i in results if not (i.size ==0)]\n",
        "        return oob_ensemble_chfs\n",
        "\n",
        "    def compute_oob_score(self, x, y):\n",
        "\n",
        "        oob_ensembles = self.compute_oob_ensembles(x)\n",
        "        c = concordance_index(y_time=y[:, 0], y_pred=oob_ensembles, y_event=y[:, 1])\n",
        "        return c\n",
        "\n",
        "    def predict(self, xs):\n",
        "\n",
        "        ensemble_chfs = [compute_ensemble_chf(sample_idx=sample_idx, xs=xs, trees=self.trees)\n",
        "                         for sample_idx in range(xs.shape[0])]\n",
        "        return ensemble_chfs\n",
        "\n",
        "    def draw_bootstrap_samples(self, data):\n",
        "\n",
        "        bootstrap_idxs = []\n",
        "        for i in range(self.n_estimators):\n",
        "            no_samples = len(data)\n",
        "            data_rows = range(no_samples)\n",
        "            bootstrap_idx = np.random.choice(data_rows, no_samples)\n",
        "            bootstrap_idxs.append(bootstrap_idx)\n",
        "\n",
        "        return bootstrap_idxs\n",
        "\n",
        "\n",
        "def compute_ensemble_chf(sample_idx, xs, trees):\n",
        "    denominator = 0\n",
        "    numerator = 0\n",
        "    for b in range(len(trees)):\n",
        "        sample = xs[sample_idx]\n",
        "        chf = trees[b].predict(sample)\n",
        "        denominator = denominator + 1\n",
        "        numerator = numerator + 1 * chf\n",
        "    ensemble_chf = numerator / denominator\n",
        "    return ensemble_chf\n",
        "\n",
        "\n",
        "def compute_oob_ensemble_chf(sample_idx, xs, trees, bootstraps):\n",
        "    denominator = 0\n",
        "    numerator = 0\n",
        "    for b in range(len(trees)):\n",
        "        if sample_idx not in bootstraps[b]:\n",
        "            sample = xs[sample_idx]\n",
        "            chf = trees[b].predict(sample)\n",
        "            denominator = denominator + 1\n",
        "            numerator = numerator + 1 * chf\n",
        "    if denominator != 0:\n",
        "        oob_ensemble_chf = numerator / denominator\n",
        "    else:\n",
        "        oob_ensemble_chf = pd.Series()\n",
        "    return oob_ensemble_chf\n"
      ],
      "execution_count": 265,
      "outputs": []
    },
    {
      "cell_type": "markdown",
      "metadata": {
        "id": "vAKWe3MYIz6I"
      },
      "source": [
        "## Scoring"
      ]
    },
    {
      "cell_type": "code",
      "metadata": {
        "id": "BqFK0I-XsWT0"
      },
      "source": [
        "def concordance_index(y_time, y_pred, y_event):\n",
        "\n",
        "    predicted_outcome = [x.sum() for x in y_pred]\n",
        "    possible_pairs = (combinations(range(len(y_pred)), 2))\n",
        "    concordance = 0\n",
        "    permissible = 0\n",
        "    for i,j in possible_pairs:\n",
        "        t1 = y_time[i]\n",
        "        t2 = y_time[j]\n",
        "        e1 = y_event[i]\n",
        "        e2 = y_event[j]\n",
        "        predicted_outcome_1 = predicted_outcome[i]\n",
        "        predicted_outcome_2 = predicted_outcome[j]\n",
        "\n",
        "        shorter_survival_time_censored = (t1 < t2 and e1 == 0) or (t2 < t1 and e2 == 0)\n",
        "        t1_equals_t2_and_no_death = (t1 == t2 and (e1 == 0 and e2 == 0))\n",
        "\n",
        "        if shorter_survival_time_censored or t1_equals_t2_and_no_death:\n",
        "            continue\n",
        "        else:\n",
        "            permissible = permissible + 1\n",
        "            if t1 != t2:\n",
        "                if t1 < t2:\n",
        "                    if predicted_outcome_1 > predicted_outcome_2:\n",
        "                        concordance = concordance + 1\n",
        "                        continue\n",
        "                    elif predicted_outcome_1 == predicted_outcome_2:\n",
        "                        concordance = concordance + 0.5\n",
        "                        continue\n",
        "                elif t2 < t1:\n",
        "                    if predicted_outcome_2 > predicted_outcome_1:\n",
        "                        concordance = concordance + 1\n",
        "                        continue\n",
        "                    elif predicted_outcome_2 == predicted_outcome_1:\n",
        "                        concordance = concordance + 0.5\n",
        "                        continue\n",
        "            elif t1 == t2:\n",
        "                if e1 == 1 and e2 == 1:\n",
        "                    if predicted_outcome_1 == predicted_outcome_2:\n",
        "                        concordance = concordance + 1\n",
        "                        continue\n",
        "                    else:\n",
        "                        concordance = concordance + 0.5\n",
        "                        continue\n",
        "                elif not (e1 == 1 and e2 == 1):\n",
        "                    if e1 == 1 and predicted_outcome_1 > predicted_outcome_2:\n",
        "                        concordance = concordance + 1\n",
        "                        continue\n",
        "                    elif e2 == 1 and predicted_outcome_2 > predicted_outcome_1:\n",
        "                        concordance = concordance + 1\n",
        "                        continue\n",
        "                    else:\n",
        "                        concordance = concordance + 0.5\n",
        "                        continue\n",
        "\n",
        "    c = concordance / permissible\n",
        "\n",
        "    return c\n"
      ],
      "execution_count": 266,
      "outputs": []
    },
    {
      "cell_type": "code",
      "metadata": {
        "id": "W3VvSPTFsfJr"
      },
      "source": [
        "veteran = pd.read_csv(\"veteran (1).csv\")"
      ],
      "execution_count": 267,
      "outputs": []
    },
    {
      "cell_type": "code",
      "metadata": {
        "id": "c42YTedEssPt"
      },
      "source": [
        "y = veteran.loc[:, [\"time\",\"status\"]].to_numpy()\n",
        "X = veteran.drop([\"time\",\"status\"], axis=1).to_numpy()"
      ],
      "execution_count": 268,
      "outputs": []
    },
    {
      "cell_type": "code",
      "metadata": {
        "id": "yNihe5D3tTJv"
      },
      "source": [
        "rsf = RandomSurvivalForest(n_estimators=10,min_leaf = 15,n_jobs = -1,oob_score = True)"
      ],
      "execution_count": 269,
      "outputs": []
    },
    {
      "cell_type": "code",
      "metadata": {
        "colab": {
          "base_uri": "https://localhost:8080/",
          "height": 120,
          "referenced_widgets": [
            "fe8a22950d024403be00b04d029db326",
            "51518c755d9c4cb9b9366ecd5cf3a59b",
            "a266c066d4224b3d91955ed7652ffe0e",
            "1ca34b0bd0cb4054b35f481bdcaab7aa",
            "85518b940a6f4654b3888205e7ac7e85",
            "2de31ecf1cf5458095a93a71bb441430",
            "a1db8ee4c8b44509b2234aa1b0bbccc1",
            "587d0d18ea3d4cf18aa1f0efa0b5ccaa"
          ]
        },
        "id": "G8Bmx0MtucN0",
        "outputId": "a2f9d76d-a0ed-4c19-9d8f-bfd8a4912b46"
      },
      "source": [
        "rsf.fit(X, y)\n"
      ],
      "execution_count": 270,
      "outputs": [
        {
          "output_type": "display_data",
          "data": {
            "application/vnd.jupyter.widget-view+json": {
              "model_id": "fe8a22950d024403be00b04d029db326",
              "version_minor": 0,
              "version_major": 2
            },
            "text/plain": [
              "HBox(children=(FloatProgress(value=0.0, max=10.0), HTML(value='')))"
            ]
          },
          "metadata": {
            "tags": []
          }
        },
        {
          "output_type": "stream",
          "text": [
            "\n"
          ],
          "name": "stdout"
        },
        {
          "output_type": "stream",
          "text": [
            "/usr/local/lib/python3.7/dist-packages/ipykernel_launcher.py:99: DeprecationWarning: The default dtype for empty Series will be 'object' instead of 'float64' in a future version. Specify a dtype explicitly to silence this warning.\n"
          ],
          "name": "stderr"
        },
        {
          "output_type": "execute_result",
          "data": {
            "text/plain": [
              "<__main__.RandomSurvivalForest at 0x7fad3d907690>"
            ]
          },
          "metadata": {
            "tags": []
          },
          "execution_count": 270
        }
      ]
    },
    {
      "cell_type": "code",
      "metadata": {
        "colab": {
          "base_uri": "https://localhost:8080/"
        },
        "id": "b5s8LofJvuRR",
        "outputId": "85f0051e-7151-44d5-c50f-bf5673331203"
      },
      "source": [
        "rsf.oob_score"
      ],
      "execution_count": 271,
      "outputs": [
        {
          "output_type": "execute_result",
          "data": {
            "text/plain": [
              "0.6223013321084061"
            ]
          },
          "metadata": {
            "tags": []
          },
          "execution_count": 271
        }
      ]
    },
    {
      "cell_type": "code",
      "metadata": {
        "id": "nYuCTwkLp1vg"
      },
      "source": [
        "from tqdm.notebook import tqdm as tqdm"
      ],
      "execution_count": 181,
      "outputs": []
    },
    {
      "cell_type": "code",
      "metadata": {
        "colab": {
          "base_uri": "https://localhost:8080/",
          "height": 163
        },
        "id": "3ICTaH_iLbQ9",
        "outputId": "a95da451-52eb-4d8f-d3c3-dc65150c2395"
      },
      "source": [
        "len(rsf.lhs.tree.trees)"
      ],
      "execution_count": 203,
      "outputs": [
        {
          "output_type": "error",
          "ename": "AttributeError",
          "evalue": "ignored",
          "traceback": [
            "\u001b[0;31m---------------------------------------------------------------------------\u001b[0m",
            "\u001b[0;31mAttributeError\u001b[0m                            Traceback (most recent call last)",
            "\u001b[0;32m<ipython-input-203-653d7ab5b7a1>\u001b[0m in \u001b[0;36m<module>\u001b[0;34m()\u001b[0m\n\u001b[0;32m----> 1\u001b[0;31m \u001b[0mlen\u001b[0m\u001b[0;34m(\u001b[0m\u001b[0mrsf\u001b[0m\u001b[0;34m.\u001b[0m\u001b[0mlhs\u001b[0m\u001b[0;34m.\u001b[0m\u001b[0mtree\u001b[0m\u001b[0;34m.\u001b[0m\u001b[0mtrees\u001b[0m\u001b[0;34m)\u001b[0m\u001b[0;34m\u001b[0m\u001b[0;34m\u001b[0m\u001b[0m\n\u001b[0m",
            "\u001b[0;31mAttributeError\u001b[0m: 'RandomSurvivalForest' object has no attribute 'lhs'"
          ]
        }
      ]
    },
    {
      "cell_type": "code",
      "metadata": {
        "id": "0tzcG4-SK4BK"
      },
      "source": [
        "a = M()"
      ],
      "execution_count": 67,
      "outputs": []
    },
    {
      "cell_type": "code",
      "metadata": {
        "colab": {
          "base_uri": "https://localhost:8080/"
        },
        "id": "SZS-0GAsK5al",
        "outputId": "bec29c75-be99-4161-ee86-13553556e423"
      },
      "source": [
        "a.b"
      ],
      "execution_count": 68,
      "outputs": [
        {
          "output_type": "execute_result",
          "data": {
            "text/plain": [
              "6"
            ]
          },
          "metadata": {
            "tags": []
          },
          "execution_count": 68
        }
      ]
    },
    {
      "cell_type": "code",
      "metadata": {
        "id": "s5V_drtKK6zv"
      },
      "source": [
        ""
      ],
      "execution_count": null,
      "outputs": []
    }
  ]
}